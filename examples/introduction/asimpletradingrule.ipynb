{
 "cells": [
  {
   "cell_type": "markdown",
   "metadata": {},
   "source": [
    "# Simple Trading Rule"
   ]
  },
  {
   "cell_type": "code",
   "execution_count": 1,
   "metadata": {},
   "outputs": [
    {
     "name": "stdout",
     "output_type": "stream",
     "text": [
      "Configuring sim logging\n"
     ]
    }
   ],
   "source": [
    "from sysdata.sim.csv_futures_sim_data import csvFuturesSimData\n",
    "import matplotlib.pyplot as plt\n",
    "%matplotlib inline"
   ]
  },
  {
   "cell_type": "markdown",
   "metadata": {},
   "source": [
    "Work up a minimum example of a trend following system"
   ]
  },
  {
   "cell_type": "markdown",
   "metadata": {},
   "source": [
    "Let's get some data\n",
    "\n",
    "We can get data from various places; however for now we're going to use\n",
    "prepackaged 'legacy' data stored in csv files"
   ]
  },
  {
   "cell_type": "code",
   "execution_count": 2,
   "metadata": {},
   "outputs": [
    {
     "data": {
      "text/plain": [
       "csvFuturesSimData object with 239 instruments"
      ]
     },
     "execution_count": 2,
     "metadata": {},
     "output_type": "execute_result"
    }
   ],
   "source": [
    "data = csvFuturesSimData()\n",
    "data"
   ]
  },
  {
   "cell_type": "markdown",
   "metadata": {},
   "source": [
    "We get stuff out of data with methods"
   ]
  },
  {
   "cell_type": "code",
   "execution_count": 3,
   "metadata": {},
   "outputs": [
    {
     "name": "stdout",
     "output_type": "stream",
     "text": [
      "['IRS', 'EUROSTX-SMALL', 'AEX_mini', 'VNKI', 'FTSEINDO', 'NASDAQ', 'GASOIL', 'EU-HOUSE', 'BRENT-LAST', 'US-PROPERTY', 'GASOILINE_ICE', 'CAD10', 'VIX', 'EU-OIL', 'EURO600', 'GILT', 'US-HEALTH', 'OATIES', 'BITCOIN', 'ALUMINIUM_LME', 'COPPER', 'COPPER-mini', 'NZD', 'GBP_micro', 'SP500_micro', 'BOBL', 'MILKWET', 'ETHER-micro', 'US20', 'SOYOIL', 'JPY_mini', 'GBPCHF', 'SUGAR11', 'GOLD-mini', 'EU-DJ-OIL', 'FTSETAIWAN', 'HANGENT_mini', 'HANG', 'MSCIEAFA', 'SOYMEAL', 'EURCAD', 'MSCIEMASIA', 'MILKDRY', 'AUD_micro', 'BRENT_W', 'WHEY', 'EUR', 'RUSSELL', 'BUXL', 'EU-CONSTRUCTION', 'WHEAT_mini', 'NOK', 'MSCIASIA', 'GAS_US', 'MILK', 'RUBBER', 'EU-CHEM', 'AUD', 'SP400', 'US-INDUSTRY', 'DJSTX-SMALL', 'ALUMINIUM', 'CNH', 'IRON', 'TWD-mini', 'DOW', 'COTTON2', 'GAS-LAST', 'LUMBER-new', 'SMI-MID', 'AEX', 'ETHANOL', 'KOSPI', 'EUROSTX-LARGE', 'US30', 'PALLAD', 'US5', 'CAD_micro', 'BTP', 'CORN', 'CAC', 'DAX', 'OMX', 'RICE', 'US-STAPLES', 'KR3', 'ZAR', 'GBPEUR', 'NIKKEI', 'HANG_mini', 'CHFJPY', 'RUR', 'EU-DJ-TELECOM', 'US2', 'GICS', 'CRUDE_ICE', 'NIKKEI400', 'BUND', 'COTTON', 'WHEAT', 'REDWHEAT', 'HANGENT', 'EU-RETAIL', 'EURAUD', 'CRUDE_W_micro', 'V2X', 'BTP3', 'MIB', 'EU-BASIC', 'RUSSELL_mini', 'US-DISCRETE', 'LIVECOW', 'FED', 'FTSECHINAH', 'OAT', 'SGD', 'CHF', 'FTSECHINAA', 'BUTTER', 'STEEL', 'CLP', 'EPRA-EUROPE', 'CRUDE_W_mini', 'LEAD_LME', 'NICKEL_LME', 'JGB-mini', 'EU-UTILS', 'PLAT', 'IG', 'KOSDAQ', 'FEEDCOW', 'CANOLA', 'YENEUR', 'FTSE100', 'EUR_mini', 'SEK', 'EU-DJ-TECH', 'US-UTILS', 'GAS_US_mini', 'VIX_mini', 'FTSEVIET', 'CORN_mini', 'TWD', 'COPPER-micro', 'BBCOMM', 'JPY', 'HANGTECH', 'IBEX', 'GOLD', 'US-TECH', 'SILVER', 'EU-DIV30', 'SHATZ', 'R1000', 'CHINAA-CON', 'ROBUSTA', 'US3', 'EU-DJ-UTIL', 'GASOILINE', 'JGB', 'COCOA', 'EU-FOOD', 'JP-REALESTATE', 'US10', 'GBPJPY', 'MUMMY', 'COFFEE', 'SOYBEAN_mini', 'ETHEREUM', 'EU-INSURE', 'EUA', 'SMI', 'EU-TECH', 'EU-MEDIA', 'MXP', 'EU-REALESTATE', 'US-FINANCE', 'KR10', 'KRWUSD', 'GOLD_micro', 'EU-AUTO', 'CHEESE', 'CZK', 'US10U', 'CRUDE_W', 'SARONA', 'EU-HEALTH', 'TOPIX', 'GAS-PEN', 'US-MATERIAL', 'GASOILINE_micro', 'PLN', 'HOUSE-US', 'BONO', 'KOSPI_mini', 'CAD5', 'TIN_LME', 'AUDJPY', 'US-ENERGY', 'SOFR', 'INR', 'JGB-SGX-mini', 'MILLWHEAT', 'CHF_micro', 'DOW_mini', 'MSCITAIWAN', 'ZINC_LME', 'EURIBOR', 'EUROSTX200-LARGE', 'BB3M', 'EUROSTX', 'EURIBOR-ICE', 'EU-TRAVEL', 'SPI200', 'BOVESPA', 'SGD_mini', 'BRE', 'MSCIWORLD', 'EURCHF', 'MSCISING', 'COCOA_LDN', 'GBP', 'LEANHOG', 'SWISSLEAD', 'SOYBEAN', 'SP500', 'EU-BANKS', 'CAD', 'COPPER_LME', 'NASDAQ_micro', 'EUR_micro', 'CNH-onshore', 'SGX', 'CH10', 'US-REALESTATE', 'SONIA3', 'EU-MID', 'KRWUSD_mini', 'HEATOIL']\n"
     ]
    },
    {
     "ename": "Exception",
     "evalue": "Instrument code EDOLLAR has no data!",
     "output_type": "error",
     "traceback": [
      "\u001b[0;31m---------------------------------------------------------------------------\u001b[0m",
      "\u001b[0;31mException\u001b[0m                                 Traceback (most recent call last)",
      "Cell \u001b[0;32mIn[3], line 2\u001b[0m\n\u001b[1;32m      1\u001b[0m \u001b[38;5;28mprint\u001b[39m(data\u001b[38;5;241m.\u001b[39mget_instrument_list())\n\u001b[0;32m----> 2\u001b[0m \u001b[38;5;28mprint\u001b[39m(\u001b[43mdata\u001b[49m\u001b[38;5;241;43m.\u001b[39;49m\u001b[43mget_raw_price\u001b[49m\u001b[43m(\u001b[49m\u001b[38;5;124;43m\"\u001b[39;49m\u001b[38;5;124;43mEDOLLAR\u001b[39;49m\u001b[38;5;124;43m\"\u001b[39;49m\u001b[43m)\u001b[49m\u001b[38;5;241m.\u001b[39mtail(\u001b[38;5;241m5\u001b[39m))\n",
      "File \u001b[0;32m/mnt/hubbard/Dev/Finance/systematic/pysystemtrade/sysdata/sim/sim_data.py:187\u001b[0m, in \u001b[0;36msimData.get_raw_price\u001b[0;34m(self, instrument_code)\u001b[0m\n\u001b[1;32m    174\u001b[0m \u001b[38;5;250m\u001b[39m\u001b[38;5;124;03m\"\"\"\u001b[39;00m\n\u001b[1;32m    175\u001b[0m \u001b[38;5;124;03mDefault method to get instrument price at 'natural' frequency\u001b[39;00m\n\u001b[1;32m    176\u001b[0m \n\u001b[0;32m   (...)\u001b[0m\n\u001b[1;32m    183\u001b[0m \n\u001b[1;32m    184\u001b[0m \u001b[38;5;124;03m\"\"\"\u001b[39;00m\n\u001b[1;32m    185\u001b[0m start_date \u001b[38;5;241m=\u001b[39m \u001b[38;5;28mself\u001b[39m\u001b[38;5;241m.\u001b[39mstart_date_for_data()\n\u001b[0;32m--> 187\u001b[0m \u001b[38;5;28;01mreturn\u001b[39;00m \u001b[38;5;28;43mself\u001b[39;49m\u001b[38;5;241;43m.\u001b[39;49m\u001b[43mget_raw_price_from_start_date\u001b[49m\u001b[43m(\u001b[49m\n\u001b[1;32m    188\u001b[0m \u001b[43m    \u001b[49m\u001b[43minstrument_code\u001b[49m\u001b[43m,\u001b[49m\u001b[43m \u001b[49m\u001b[43mstart_date\u001b[49m\u001b[38;5;241;43m=\u001b[39;49m\u001b[43mstart_date\u001b[49m\n\u001b[1;32m    189\u001b[0m \u001b[43m\u001b[49m\u001b[43m)\u001b[49m\n",
      "File \u001b[0;32m/mnt/hubbard/Dev/Finance/systematic/pysystemtrade/sysdata/sim/futures_sim_data.py:79\u001b[0m, in \u001b[0;36mfuturesSimData.get_raw_price_from_start_date\u001b[0;34m(self, instrument_code, start_date)\u001b[0m\n\u001b[1;32m     77\u001b[0m price \u001b[38;5;241m=\u001b[39m \u001b[38;5;28mself\u001b[39m\u001b[38;5;241m.\u001b[39mget_backadjusted_futures_price(instrument_code)\n\u001b[1;32m     78\u001b[0m \u001b[38;5;28;01mif\u001b[39;00m \u001b[38;5;28mlen\u001b[39m(price) \u001b[38;5;241m==\u001b[39m \u001b[38;5;241m0\u001b[39m:\n\u001b[0;32m---> 79\u001b[0m     \u001b[38;5;28;01mraise\u001b[39;00m \u001b[38;5;167;01mException\u001b[39;00m(\u001b[38;5;124m\"\u001b[39m\u001b[38;5;124mInstrument code \u001b[39m\u001b[38;5;132;01m%s\u001b[39;00m\u001b[38;5;124m has no data!\u001b[39m\u001b[38;5;124m\"\u001b[39m \u001b[38;5;241m%\u001b[39m instrument_code)\n\u001b[1;32m     81\u001b[0m \u001b[38;5;28;01mreturn\u001b[39;00m price[start_date:]\n",
      "\u001b[0;31mException\u001b[0m: Instrument code EDOLLAR has no data!"
     ]
    }
   ],
   "source": [
    "print(data.get_instrument_list())\n",
    "print(data.get_raw_price(\"EDOLLAR\").tail(5))"
   ]
  },
  {
   "cell_type": "markdown",
   "metadata": {},
   "source": [
    "data can also behave in a dict like manner (though it's not a dict)"
   ]
  },
  {
   "cell_type": "code",
   "execution_count": null,
   "metadata": {},
   "outputs": [],
   "source": [
    "data['SP500']"
   ]
  },
  {
   "cell_type": "code",
   "execution_count": null,
   "metadata": {},
   "outputs": [],
   "source": [
    "data.keys()"
   ]
  },
  {
   "cell_type": "markdown",
   "metadata": {},
   "source": [
    "... however this will only access prices\n",
    "(note these prices have already been backadjusted for rolls)\n",
    "\n",
    "We have extra futures data here"
   ]
  },
  {
   "cell_type": "code",
   "execution_count": null,
   "metadata": {},
   "outputs": [],
   "source": [
    "data.get_instrument_raw_carry_data(\"EDOLLAR\").tail(6)"
   ]
  },
  {
   "cell_type": "markdown",
   "metadata": {},
   "source": [
    "Technical note: csvFuturesSimData inherits from FuturesData which itself inherits from simData\n",
    "The chain is 'data specific' <- 'asset class specific' <- 'generic'\n",
    "\n",
    "Let's create a simple trading rule\n",
    "\n",
    "No capping or scaling"
   ]
  },
  {
   "cell_type": "code",
   "execution_count": null,
   "metadata": {},
   "outputs": [],
   "source": [
    "import pandas as pd\n",
    "from sysquant.estimators.vol import robust_vol_calc\n",
    "\n",
    "\n",
    "def calc_ewmac_forecast(price, Lfast, Lslow=None):\n",
    "    \"\"\"\n",
    "    Calculate the ewmac trading rule forecast, given a price and EWMA speeds\n",
    "    Lfast, Lslow and vol_lookback\n",
    "\n",
    "    \"\"\"\n",
    "    # price: This is the stitched price series\n",
    "    # We can't use the price of the contract we're trading, or the volatility\n",
    "    # will be jumpy\n",
    "    # And we'll miss out on the rolldown. See\n",
    "    # https://qoppac.blogspot.com/2015/05/systems-building-futures-rolling.html\n",
    "\n",
    "    price = price.resample(\"1B\").last()\n",
    "\n",
    "    if Lslow is None:\n",
    "        Lslow = 4 * Lfast\n",
    "\n",
    "    # We don't need to calculate the decay parameter, just use the span\n",
    "    # directly\n",
    "    fast_ewma = price.ewm(span=Lfast).mean()\n",
    "    slow_ewma = price.ewm(span=Lslow).mean()\n",
    "    raw_ewmac = fast_ewma - slow_ewma\n",
    "    vol = robust_vol_calc(price.diff())\n",
    "    return raw_ewmac / vol"
   ]
  },
  {
   "cell_type": "markdown",
   "metadata": {},
   "source": [
    "\n",
    "Try it out\n",
    "\n",
    "(this isn't properly scaled at this stage of course)\n"
   ]
  },
  {
   "cell_type": "code",
   "execution_count": null,
   "metadata": {},
   "outputs": [],
   "source": [
    "instrument_code = 'EDOLLAR'\n",
    "price = data.daily_prices(instrument_code)\n",
    "ewmac = calc_ewmac_forecast(price, 32, 128)\n",
    "ewmac.columns = ['forecast']\n",
    "ewmac.tail(5)"
   ]
  },
  {
   "cell_type": "code",
   "execution_count": null,
   "metadata": {},
   "outputs": [],
   "source": [
    "ewmac.plot();\n",
    "plt.title('Forecast')\n",
    "plt.ylabel('Position')\n",
    "plt.xlabel('Time')"
   ]
  },
  {
   "cell_type": "markdown",
   "metadata": {},
   "source": [
    "\n",
    "Did we make money?\n"
   ]
  },
  {
   "cell_type": "code",
   "execution_count": null,
   "metadata": {
    "scrolled": false
   },
   "outputs": [],
   "source": [
    "from systems.accounts.account_forecast import pandl_for_instrument_forecast\n",
    "account = pandl_for_instrument_forecast(forecast=ewmac, price = price)\n",
    "account.curve().plot();\n",
    "plt.title('Profit and Loss')\n",
    "plt.ylabel('PnL')\n",
    "plt.xlabel('Time');"
   ]
  },
  {
   "cell_type": "code",
   "execution_count": null,
   "metadata": {},
   "outputs": [],
   "source": [
    "account.percent.stats()"
   ]
  }
 ],
 "metadata": {
  "kernelspec": {
   "display_name": "Python 3",
   "language": "python",
   "name": "python3"
  },
  "language_info": {
   "codemirror_mode": {
    "name": "ipython",
    "version": 3
   },
   "file_extension": ".py",
   "mimetype": "text/x-python",
   "name": "python",
   "nbconvert_exporter": "python",
   "pygments_lexer": "ipython3",
   "version": "3.10.13"
  }
 },
 "nbformat": 4,
 "nbformat_minor": 1
}
